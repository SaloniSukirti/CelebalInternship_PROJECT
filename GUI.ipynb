{
 "cells": [
  {
   "cell_type": "code",
   "execution_count": 1,
   "metadata": {},
   "outputs": [],
   "source": [
    "from tkinter import *\n",
    "import tkinter as tk\n",
    "from tkinter import filedialog\n",
    "from PIL import Image, ImageTk\n",
    "import tensorflow as tf\n",
    "import numpy as np"
   ]
  },
  {
   "cell_type": "code",
   "execution_count": 2,
   "metadata": {},
   "outputs": [],
   "source": [
    "model = tf.keras.models.load_model('models/imageclassifier.h5')"
   ]
  },
  {
   "cell_type": "code",
   "execution_count": 3,
   "metadata": {},
   "outputs": [],
   "source": [
    "# def open_image():\n",
    "#     file_path = filedialog.askopenfilename()\n",
    "#     if file_path:\n",
    "#         image = Image.open(file_path)\n",
    "#         image = image.resize((256, 256))  # Resize the image to (256, 256).\n",
    "#         photo = ImageTk.PhotoImage(image)\n",
    "\n",
    "#         # Update the label to show the selected image.\n",
    "#         image_label.config(image=photo)\n",
    "#         image_label.image = photo\n",
    "\n",
    "#         # Perform prediction when an image is selected.\n",
    "#         predict_image(image)\n",
    "\n",
    "\n",
    "def open_image():\n",
    "    file_path = filedialog.askopenfilename()\n",
    "    if file_path:\n",
    "        image = Image.open(file_path)\n",
    "\n",
    "        # Check if the image has an alpha channel (4 channels).\n",
    "        if image.mode == 'RGBA':\n",
    "            image = image.convert('RGB')  # Convert to RGB mode by removing the alpha channel.\n",
    "\n",
    "        # Resize the image to match the model's input shape.\n",
    "        image = image.resize((256, 256))\n",
    "\n",
    "        photo = ImageTk.PhotoImage(image)\n",
    "\n",
    "        # Update the label to show the selected image.\n",
    "        image_label.config(image=photo)\n",
    "        image_label.image = photo\n",
    "\n",
    "        # Perform prediction when an image is selected.\n",
    "        prediction_result = predict_image(image)\n",
    "        prediction_label.config(text=\"Prediction: \" + prediction_result)\n",
    "\n",
    "\n"
   ]
  },
  {
   "cell_type": "code",
   "execution_count": 4,
   "metadata": {},
   "outputs": [],
   "source": [
    "def predict_image(image):\n",
    "\n",
    "    class_labels=['Bicycle','Bike','Car','Cart','Truck']\n",
    "    resize = tf.image.resize(image, (256,256))\n",
    "    image_batch = np.expand_dims(resize / 255, axis=0)\n",
    "\n",
    "    # Make predictions using the model\n",
    "    yhat = model.predict(image_batch)\n",
    "    predicted_class_index = np.argmax(yhat, axis=-1)\n",
    "    predicted_class_label = class_labels[predicted_class_index[0]]\n",
    "\n",
    "    return(predicted_class_label)\n",
    "    # print(\"Predicted class label:\", predicted_class_label)"
   ]
  },
  {
   "cell_type": "code",
   "execution_count": 5,
   "metadata": {},
   "outputs": [],
   "source": [
    "# def predict_image(image):\n",
    "#     # Preprocess the image to match the input requirements of the model.\n",
    "#     # Assuming your model expects RGB images with values between 0 and 1.\n",
    "#     class_labels=['Bicycle','Bike','Car','Cart','Truck']\n",
    "#     # image_array = np.array(image) / 255\n",
    "#     # image_array = np.expand_dims(image_array, axis=0)\n",
    "#     # print(image_array.shape)\n",
    "#     # # Make a prediction using the loaded model.\n",
    "#     # prediction = model.predict(image_array)\n",
    "\n",
    "#     # # Do something with the prediction (e.g., display the result, save it, etc.).\n",
    "#     # print(\"Prediction:\", prediction)\n",
    "\n",
    "#     # if prediction > 0.5:\n",
    "#     #     print(\"Car\")\n",
    "#     # else:\n",
    "#     #     print(\"Bike\")\n",
    "#     # Preprocess the image and expand its dimensions to simulate a batch size of 1\n",
    "#     resize = tf.image.resize(img, (256,256))\n",
    "#     image_batch = np.expand_dims(resize / 255, axis=0)\n",
    "\n",
    "#     # Make predictions using the model\n",
    "#     yhat = model.predict(image_batch)\n",
    "\n",
    "#     # 'yhat' will contain the predicted probabilities for each class\n",
    "#     # If you want to get the predicted class index (the class with the highest probability),\n",
    "#     # you can use np.argmax to find the index with the highest probability\n",
    "#     predicted_class_index = np.argmax(yhat, axis=-1)\n",
    "\n",
    "#     # Now you can use 'predicted_class_index' to get the predicted class label\n",
    "#     # (assuming you have a list of class labels, e.g., ['bus', 'car', 'truck'])\n",
    "#     predicted_class_label = class_labels[predicted_class_index[0]]\n",
    "\n",
    "#     print(\"Predicted class label:\", predicted_class_label)"
   ]
  },
  {
   "cell_type": "code",
   "execution_count": 6,
   "metadata": {},
   "outputs": [],
   "source": [
    "# app = tk.Tk()\n",
    "# app.title(\"Image Input and Prediction GUI\")\n",
    "\n",
    "# # Create a label to display the image.\n",
    "# image_label = tk.Label(app)\n",
    "# image_label.pack()\n",
    "\n",
    "# # Create a button to open the file dialog and select an image.\n",
    "# open_button = tk.Button(app, text=\"Open Image\", command=open_image)\n",
    "# open_button.pack()\n",
    "\n",
    "# # Start the GUI main loop.\n",
    "# app.mainloop()"
   ]
  },
  {
   "cell_type": "code",
   "execution_count": 7,
   "metadata": {},
   "outputs": [
    {
     "name": "stdout",
     "output_type": "stream",
     "text": [
      "1/1 [==============================] - 0s 198ms/step\n"
     ]
    }
   ],
   "source": [
    "import tkinter as tk\n",
    "from random import randint\n",
    "\n",
    "app = tk.Tk()\n",
    "app.title(\"Image Input and Prediction\")\n",
    "app.geometry(\"800x600\") \n",
    "\n",
    "# Create a label to display the image.\n",
    "image_label = tk.Label(app)\n",
    "image_label.pack()\n",
    "\n",
    "#Create a button to open the file dialog and select an image.\n",
    "open_button = tk.Button(app, text=\"Open Image\", command=open_image,bg=\"#4CAF50\", fg=\"white\", font=(\"Helvetica\", 16), padx=20, pady=10)\n",
    "open_button.pack(pady=20)\n",
    "\n",
    "# Create a label to display the prediction result.\n",
    "prediction_label = tk.Label(app, text=\"Prediction: None\", font=(\"Helvetica\", 14))\n",
    "prediction_label.pack()\n",
    "\n",
    "\n",
    "# Function to update the background color every second.\n",
    "def update_color():\n",
    "    color = \"#%06x\" % randint(0, 0xFFFFFF)  # Generate a random color code.\n",
    "    app.config(background=color)  # Change the background color of the main window.\n",
    "    app.after(1000, update_color)  # Schedule the function to run again after 1000 ms (1 second).\n",
    "\n",
    "# Start updating the color.\n",
    "update_color()\n",
    "\n",
    "# Start the GUI main loop.\n",
    "app.mainloop()\n",
    "                                                    "
   ]
  }
 ],
 "metadata": {
  "kernelspec": {
   "display_name": "Python 3",
   "language": "python",
   "name": "python3"
  },
  "language_info": {
   "codemirror_mode": {
    "name": "ipython",
    "version": 3
   },
   "file_extension": ".py",
   "mimetype": "text/x-python",
   "name": "python",
   "nbconvert_exporter": "python",
   "pygments_lexer": "ipython3",
   "version": "3.11.0"
  },
  "orig_nbformat": 4
 },
 "nbformat": 4,
 "nbformat_minor": 2
}
